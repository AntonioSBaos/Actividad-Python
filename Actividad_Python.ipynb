{
 "cells": [
  {
   "cell_type": "markdown",
   "id": "66b55b91",
   "metadata": {},
   "source": [
    "# Actividad Python\n",
    "\n",
    "35% de la Nota Final\n",
    "\n",
    "- Fecha de Entrega:\n",
    "    - 1ra Convocatoria 13/01/2023\n",
    "    - 2da Convocatoria 19/04/2023\n",
    "\n",
    "\n",
    "Se provee:  \n",
    "- Un fichero **Actividad_Python.ipynb**\n",
    "    - Corresponde a un cuaderno jupyter notebook interactivo  con 13 ejercicios.\n",
    " \n",
    "Para realizar la actividad, generar una copia del fichero Actividad_Python.ipynb indicando nombre del grupo (Actividad_Python_Gx.ipynb). Indicar en su interior los nombres de los estudiantes que participaron en la entrega en grupo e incluir en las celdas vacías el código o los comandos que permiten obtener la información solicitada en los 13 ejercicios. \n",
    "\n",
    "Las entregas deberán realizarse en grupos de 5 personas. \n",
    "Registrarse en la Pestaña  Actividad Formativa --> Grupos, en uno de los grupos disponibles.  La entrega de la actividad deberá realizarse desde esta misma pestaña, seleccionando Actividades en grupo --> Python-Actividad. \n",
    "\n",
    "NOTA:  Para poder trabajar con el último ejercicio, deberá instalarse previamente la libreria **biopython**."
   ]
  },
  {
   "cell_type": "markdown",
   "id": "d9dfa599",
   "metadata": {},
   "source": [
    "1. Escribe en mayúsculas la siguiente cadena de texto: (0.25 ptos.)"
   ]
  },
  {
   "cell_type": "code",
   "execution_count": 54,
   "id": "d94c09ba",
   "metadata": {},
   "outputs": [
    {
     "data": {
      "text/plain": [
       "'HOLA ALICIA PEREZ'"
      ]
     },
     "execution_count": 54,
     "metadata": {},
     "output_type": "execute_result"
    }
   ],
   "source": [
    "s = 'hola alicia perez'\n",
    "s.upper()"
   ]
  },
  {
   "cell_type": "markdown",
   "id": "7c1ff6d1",
   "metadata": {},
   "source": [
    "2. Divide la anterior cadena de texto en una lista de palabras y selecciona el nombre y el apellido (0.25 ptos.)"
   ]
  },
  {
   "cell_type": "code",
   "execution_count": 53,
   "id": "1773d5e5",
   "metadata": {},
   "outputs": [
    {
     "data": {
      "text/plain": [
       "['alicia', 'perez']"
      ]
     },
     "execution_count": 53,
     "metadata": {},
     "output_type": "execute_result"
    }
   ],
   "source": [
    "s = 'hola alicia perez'\n",
    "s = s.split()\n",
    "s[1:3]"
   ]
  },
  {
   "cell_type": "markdown",
   "id": "495c160c",
   "metadata": {},
   "source": [
    "3. Elimina los espacios y retornos de carro extra de la siguiente cadena de texto: (0.25 ptos.)"
   ]
  },
  {
   "cell_type": "code",
   "execution_count": 19,
   "id": "27c32133",
   "metadata": {},
   "outputs": [
    {
     "data": {
      "text/plain": [
       "'hola'"
      ]
     },
     "execution_count": 19,
     "metadata": {},
     "output_type": "execute_result"
    }
   ],
   "source": [
    "s = '   hola \\n'\n",
    "s.strip()"
   ]
  },
  {
   "cell_type": "markdown",
   "id": "514e46d1",
   "metadata": {},
   "source": [
    "4. Une la siguiente lista de palabras en una cadena de texto en la que las palabras estén separadas por comas: (0.25 ptos.)"
   ]
  },
  {
   "cell_type": "code",
   "execution_count": 76,
   "id": "3e2d21a1",
   "metadata": {},
   "outputs": [
    {
     "data": {
      "text/plain": [
       "'una,lista,con,palabras'"
      ]
     },
     "execution_count": 76,
     "metadata": {},
     "output_type": "execute_result"
    }
   ],
   "source": [
    "l = ['una', 'lista', 'con', 'palabras']\n",
    "\",\".join(l)\n",
    "\n"
   ]
  },
  {
   "cell_type": "markdown",
   "id": "44b88bca",
   "metadata": {},
   "source": [
    "5. Reemplaza las comas por tabuladores en la siguiente cadena de texto: (1 pto.)"
   ]
  },
  {
   "cell_type": "code",
   "execution_count": 58,
   "id": "77c377c7",
   "metadata": {},
   "outputs": [
    {
     "name": "stdout",
     "output_type": "stream",
     "text": [
      "una\tdos\ttres\tcuatro\n"
     ]
    }
   ],
   "source": [
    "s = 'una,dos,tres,cuatro'\n",
    "s = s.replace(\",\",\"\\t\")\n",
    "print(s)\n"
   ]
  },
  {
   "cell_type": "markdown",
   "id": "b6a9d250",
   "metadata": {},
   "source": [
    "6. ¿Está la palabra 'un' contenida en las siguientes cadenas de texto? (1 pto.)"
   ]
  },
  {
   "cell_type": "code",
   "execution_count": 77,
   "id": "e495acff",
   "metadata": {},
   "outputs": [
    {
     "data": {
      "text/plain": [
       "True"
      ]
     },
     "execution_count": 77,
     "metadata": {},
     "output_type": "execute_result"
    }
   ],
   "source": [
    "s1 = 'tres, dos, uno'\n",
    "s2 = 'spam, spam, spam'\n",
    "\"un\" in s1"
   ]
  },
  {
   "cell_type": "code",
   "execution_count": 78,
   "id": "d22d059e",
   "metadata": {},
   "outputs": [
    {
     "data": {
      "text/plain": [
       "False"
      ]
     },
     "execution_count": 78,
     "metadata": {},
     "output_type": "execute_result"
    }
   ],
   "source": [
    "\"un\" in s2"
   ]
  },
  {
   "cell_type": "markdown",
   "id": "0ffbfc86",
   "metadata": {},
   "source": [
    "7. ¿Comienzan las siguientes cadenas de texto por “#”? Si es así elimina el caracter \"#\" de la cadena de texto correspondiente (1 pto.)"
   ]
  },
  {
   "cell_type": "code",
   "execution_count": 102,
   "id": "405bc52e",
   "metadata": {},
   "outputs": [
    {
     "name": "stdout",
     "output_type": "stream",
     "text": [
      "El siguiente campo empieza por #:\n",
      "#explicacion\n",
      "Si eliminamos el #, quedaría así:\n",
      "explicacion\n"
     ]
    }
   ],
   "source": [
    "s1 = '#explicacion de los campos' \n",
    "s2 = 'campo1, campo2, campo2'\n",
    "\n",
    "lista_de_campos = s1.split() + s2.split()\n",
    "for campo in lista_de_campos:\n",
    "    if campo.startswith(\"#\"):\n",
    "        print (\"El siguiente campo empieza por #:\")\n",
    "        print (campo)\n",
    "        print (\"Si eliminamos el #, quedaría así:\")\n",
    "        print (campo[1:])"
   ]
  },
  {
   "cell_type": "markdown",
   "id": "e81ccc68",
   "metadata": {},
   "source": [
    "\n",
    "8. Dada la siguiente lista de cadena de texto filtra las palabras que comienzan por “#” y obtén una nueva lista con las palabras filtradas (las marcadas con \"#\") (1pto.)"
   ]
  },
  {
   "cell_type": "code",
   "execution_count": 108,
   "id": "98641a2e",
   "metadata": {},
   "outputs": [
    {
     "name": "stdout",
     "output_type": "stream",
     "text": [
      "['#explicacion,', '#campo1,']\n"
     ]
    }
   ],
   "source": [
    "l = ['#explicacion, campos', '#campo1, campo2, campo2']\n",
    "\n",
    "lista_de_campos = l[0].split() + l[1].split()\n",
    "campos_con_almohadilla = []\n",
    "\n",
    "for campo in lista_de_campos:\n",
    "    if campo.startswith(\"#\"):\n",
    "        campos_con_almohadilla.append(campo)\n",
    "print (campos_con_almohadilla)"
   ]
  },
  {
   "cell_type": "markdown",
   "id": "b2407be9",
   "metadata": {},
   "source": [
    "9. Selecciona los primeros tres elementos de la siguiente línea. Después los tres últimos (1pto.)"
   ]
  },
  {
   "cell_type": "code",
   "execution_count": 71,
   "id": "9a14273c",
   "metadata": {},
   "outputs": [
    {
     "data": {
      "text/plain": [
       "['uno', 'dos', 'tres']"
      ]
     },
     "execution_count": 71,
     "metadata": {},
     "output_type": "execute_result"
    }
   ],
   "source": [
    "l = ['uno', 'dos', 'tres', 'cuatro', 5, 6, 7]\n",
    "l[0:3]"
   ]
  },
  {
   "cell_type": "code",
   "execution_count": 72,
   "id": "5a68cfb9",
   "metadata": {},
   "outputs": [
    {
     "data": {
      "text/plain": [
       "[5, 6, 7]"
      ]
     },
     "execution_count": 72,
     "metadata": {},
     "output_type": "execute_result"
    }
   ],
   "source": [
    "l[4:7]"
   ]
  },
  {
   "cell_type": "markdown",
   "id": "d0432c5f",
   "metadata": {},
   "source": [
    "10. Calcula el número de elementos de los que se compone la lista anterior."
   ]
  },
  {
   "cell_type": "code",
   "execution_count": 73,
   "id": "69eb6f86",
   "metadata": {},
   "outputs": [
    {
     "data": {
      "text/plain": [
       "7"
      ]
     },
     "execution_count": 73,
     "metadata": {},
     "output_type": "execute_result"
    }
   ],
   "source": [
    "len(l)\n"
   ]
  },
  {
   "cell_type": "markdown",
   "id": "6c72f685",
   "metadata": {},
   "source": [
    "11. Imprime las claves ordenadas del siguiente diccionario (Recuerda que los diccionarios no tienen por que estar ordenados en memoria). Después los valores ordenados (1pto.)"
   ]
  },
  {
   "cell_type": "code",
   "execution_count": 115,
   "id": "245523a4",
   "metadata": {},
   "outputs": [
    {
     "data": {
      "text/plain": [
       "[1, 2, 3]"
      ]
     },
     "execution_count": 115,
     "metadata": {},
     "output_type": "execute_result"
    }
   ],
   "source": [
    "d = {1 : 'Noether', 2: 'Albert', 3: 'Isaac'}\n",
    "sorted(d)"
   ]
  },
  {
   "cell_type": "code",
   "execution_count": 117,
   "id": "bac94bbf",
   "metadata": {},
   "outputs": [
    {
     "data": {
      "text/plain": [
       "['Albert', 'Isaac', 'Noether']"
      ]
     },
     "execution_count": 117,
     "metadata": {},
     "output_type": "execute_result"
    }
   ],
   "source": [
    "sorted(d.values())"
   ]
  },
  {
   "cell_type": "markdown",
   "id": "bcb8fc4a",
   "metadata": {},
   "source": [
    "12. En el siguiente dataset, indicar:  \n",
    "    - Cuántas adeninas, citosinas, guaninas y timinas hay (0.5 ptos.) \n",
    "    - En qué posiciones se encuentran las adeninas? (0.5 ptos.)"
   ]
  },
  {
   "cell_type": "code",
   "execution_count": 65,
   "id": "b1bcdd37",
   "metadata": {},
   "outputs": [],
   "source": [
    "dataset = 'CGAAACGCTCTTCTTAAACGTCCTATACTATTGGCTCTAATTATGGTGGTGTAACCGCGCACGCCGCTTAAATTCAGCTAGCGTTCTCTGGGAAAGCTATTACCTTAAAGGCACCTGGTACATAGCGACGCGCAACGCCACTTGTATTAGACACTGAGTCGACCAGTTGTAGACACGACACACCACCCTATGAACACAGGCACTTGTGCACCGTCAACAGAGATCATACTCTCATACGATCAGGCACTTCACAGCTCCTGGGCAGGGGGCCCATCCGCACGTAATACAGGCTACTCAAAATTCACATGACATGCTCCTACGTCGTCTTGAGCGCTCGCCCTTGCTGGTGTTAAGTCTGCCACGTTAGCGGTCACCCCCCTTGTTCGGCCTATTCCTGCAGCTACTACATTGTAATAGAGACACCTACGCTTGGGAAGCATCTTGGAGGTGGCTCATGCGCCTGCATTGGGAAACACGTGCTACCGTGATCTTGAATTTGGTGAACACCCCCGCCTTATGTGGGCTAATCACTGATAGCTGACTTAATTGTCGCGCTCAAAGGAGTAGTGACGAGCAGGTGATAGGACTGTGAGGATCCTAGGAGACCTAAACCTACACTCTAGGGCAAGAGACTCCTCCATCTCTAGAATCAATCGTCCTTGCCCACATCTTCAAGGCGGCATGTCAAAATATGTATCCGGCAACAGTATATATAGAAAGCCCAGTGTTTATCATGCGGACGGTTGAAAGCAGGGTGCTGGTTAAACGCGTAATACTCAGAATATGATACTGGATCACGTGTAAAGAGTTTGGATAATTTGACACTTGGACTGGGCACAACTGTAGATTAATAGACCTCGTGAGCACACCCCTAACAAACTGGCCAAAGTCGACAAGATGCGCTTGGTTACTCAACTGGAACATCAGTAGAACGAAGTCTAGCTGAAT'"
   ]
  },
  {
   "cell_type": "code",
   "execution_count": 66,
   "id": "e8e4aaf4",
   "metadata": {},
   "outputs": [
    {
     "data": {
      "text/plain": [
       "256"
      ]
     },
     "execution_count": 66,
     "metadata": {},
     "output_type": "execute_result"
    }
   ],
   "source": [
    "dataset.count(\"A\")"
   ]
  },
  {
   "cell_type": "code",
   "execution_count": 67,
   "id": "37df31a3",
   "metadata": {},
   "outputs": [
    {
     "data": {
      "text/plain": [
       "230"
      ]
     },
     "execution_count": 67,
     "metadata": {},
     "output_type": "execute_result"
    }
   ],
   "source": [
    "dataset.count(\"T\")"
   ]
  },
  {
   "cell_type": "code",
   "execution_count": 68,
   "id": "6f0741ce",
   "metadata": {},
   "outputs": [
    {
     "data": {
      "text/plain": [
       "219"
      ]
     },
     "execution_count": 68,
     "metadata": {},
     "output_type": "execute_result"
    }
   ],
   "source": [
    "dataset.count(\"G\")"
   ]
  },
  {
   "cell_type": "code",
   "execution_count": 69,
   "id": "1c0e6b1b",
   "metadata": {},
   "outputs": [
    {
     "data": {
      "text/plain": [
       "243"
      ]
     },
     "execution_count": 69,
     "metadata": {},
     "output_type": "execute_result"
    }
   ],
   "source": [
    "dataset.count(\"C\")"
   ]
  },
  {
   "cell_type": "code",
   "execution_count": 122,
   "id": "b71b6884",
   "metadata": {},
   "outputs": [
    {
     "name": "stdout",
     "output_type": "stream",
     "text": [
      "[3, 4, 5, 16, 17, 18, 25, 27, 30, 39, 40, 43, 53, 54, 61, 70, 71, 72, 76, 80, 93, 94, 95, 99, 102, 107, 108, 109, 113, 120, 122, 124, 128, 134, 135, 140, 146, 149, 151, 153, 157, 162, 165, 171, 173, 175, 178, 180, 182, 185, 190, 193, 194, 196, 198, 202, 210, 216, 217, 219, 221, 223, 226, 228, 234, 236, 239, 242, 246, 251, 253, 264, 273, 279, 283, 284, 286, 288, 293, 297, 298, 299, 300, 304, 306, 309, 311, 319, 330, 352, 353, 361, 366, 373, 391, 399, 403, 406, 408, 413, 414, 416, 418, 420, 422, 426, 435, 436, 439, 446, 455, 465, 471, 472, 473, 475, 482, 488, 494, 495, 503, 504, 506, 517, 526, 527, 530, 534, 536, 541, 545, 546, 558, 559, 560, 563, 566, 570, 573, 576, 581, 583, 586, 592, 595, 600, 603, 605, 609, 610, 611, 615, 617, 622, 627, 628, 630, 632, 640, 646, 648, 649, 652, 653, 666, 668, 674, 675, 682, 687, 688, 689, 690, 692, 696, 703, 704, 706, 709, 711, 713, 715, 717, 718, 719, 724, 731, 734, 740, 747, 748, 749, 752, 764, 765, 766, 772, 773, 775, 779, 781, 782, 784, 787, 789, 794, 797, 803, 804, 805, 807, 814, 816, 817, 822, 824, 830, 837, 839, 840, 845, 847, 850, 851, 853, 855, 863, 866, 868, 874, 875, 877, 878, 879, 886, 887, 888, 893, 895, 896, 898, 910, 914, 915, 920, 921, 923, 926, 929, 931, 932, 935, 936, 941, 946, 947]\n"
     ]
    }
   ],
   "source": [
    "nucl_a_buscar = \"A\"\n",
    "lista_de_posiciones = []\n",
    "\n",
    "for pos,nucle in enumerate(dataset):\n",
    "    if nucle == nucl_a_buscar:\n",
    "        lista_de_posiciones.append(pos+1)\n",
    "print (lista_de_posiciones)\n",
    "\n"
   ]
  },
  {
   "cell_type": "markdown",
   "id": "79cfc256",
   "metadata": {},
   "source": [
    "13. Enumerar K-mers\n",
    "Tenemos un fichero de secuencias en formato fasta seqs_5.fasta, y queremos contar las apariciones de todos las trozos de secuencia de un tamaño determinado (k-mers). En este caso el tamaño de los trozos que vamos a contar es de 20 bases. El código mostrado a continuación permite visualizar el resultado del conteo. \n",
    "- Completar el código para calcular automáticamente cuántos k-mers distintos fueron encontrados (1pto).\n",
    "\n",
    "    Nota explicativa: Si tenemos una secuencia ATCGT, y pedimos un tamaño de secuencia de 3, los trozos de secuencia que tenemos son: ATC, TCG, CGT"
   ]
  },
  {
   "cell_type": "code",
   "execution_count": 18,
   "id": "54cd5375",
   "metadata": {
    "scrolled": false
   },
   "outputs": [
    {
     "name": "stdout",
     "output_type": "stream",
     "text": [
      "ATGCCAGATTTGACCGATGA 1\n",
      "TGCCAGATTTGACCGATGAT 1\n",
      "GCCAGATTTGACCGATGATG 1\n",
      "CCAGATTTGACCGATGATGG 1\n",
      "CAGATTTGACCGATGATGGC 1\n",
      "AGATTTGACCGATGATGGCA 1\n",
      "GATTTGACCGATGATGGCAT 1\n",
      "ATTTGACCGATGATGGCATC 1\n",
      "TTTGACCGATGATGGCATCG 1\n",
      "TTGACCGATGATGGCATCGA 1\n",
      "TGACCGATGATGGCATCGAG 1\n",
      "GACCGATGATGGCATCGAGC 1\n",
      "ACCGATGATGGCATCGAGCG 1\n",
      "CCGATGATGGCATCGAGCGA 1\n",
      "CGATGATGGCATCGAGCGAG 1\n",
      "GATGATGGCATCGAGCGAGC 1\n",
      "ATGATGGCATCGAGCGAGCG 1\n",
      "TGATGGCATCGAGCGAGCGA 1\n",
      "GATGGCATCGAGCGAGCGAC 1\n",
      "ATGGCATCGAGCGAGCGACA 1\n",
      "TGGCATCGAGCGAGCGACAT 1\n",
      "GGCATCGAGCGAGCGACATC 1\n",
      "GCATCGAGCGAGCGACATCT 1\n",
      "CATCGAGCGAGCGACATCTA 1\n",
      "ATCGAGCGAGCGACATCTAG 1\n",
      "TCGAGCGAGCGACATCTAGG 1\n",
      "CGAGCGAGCGACATCTAGGC 1\n",
      "GAGCGAGCGACATCTAGGCT 1\n",
      "AGCGAGCGACATCTAGGCTA 1\n",
      "GCGAGCGACATCTAGGCTAG 1\n",
      "CGAGCGACATCTAGGCTAGG 1\n",
      "GAGCGACATCTAGGCTAGGG 1\n",
      "AGCGACATCTAGGCTAGGGG 1\n",
      "GCGACATCTAGGCTAGGGGG 1\n",
      "CGACATCTAGGCTAGGGGGG 1\n",
      "GACATCTAGGCTAGGGGGGC 1\n",
      "ACATCTAGGCTAGGGGGGCT 1\n",
      "CATCTAGGCTAGGGGGGCTT 1\n",
      "ATCTAGGCTAGGGGGGCTTT 1\n",
      "TCTAGGCTAGGGGGGCTTTT 1\n",
      "CTAGGCTAGGGGGGCTTTTA 1\n",
      "TAGGCTAGGGGGGCTTTTAG 1\n",
      "AGGCTAGGGGGGCTTTTAGG 1\n",
      "GGCTAGGGGGGCTTTTAGGC 1\n",
      "GCTAGGGGGGCTTTTAGGCT 1\n",
      "CTAGGGGGGCTTTTAGGCTT 1\n",
      "TAGGGGGGCTTTTAGGCTTA 1\n",
      "AGGGGGGCTTTTAGGCTTAC 1\n",
      "GGGGGGCTTTTAGGCTTACG 1\n",
      "GGGGGCTTTTAGGCTTACGG 1\n",
      "GGGGCTTTTAGGCTTACGGA 1\n",
      "GGGCTTTTAGGCTTACGGAC 1\n",
      "GGCTTTTAGGCTTACGGACT 1\n",
      "GCTTTTAGGCTTACGGACTA 1\n",
      "CTTTTAGGCTTACGGACTAT 1\n",
      "TTTTAGGCTTACGGACTATC 1\n",
      "TTTAGGCTTACGGACTATCG 1\n",
      "TTAGGCTTACGGACTATCGA 1\n",
      "TAGGCTTACGGACTATCGAA 1\n",
      "AGGCTTACGGACTATCGAAA 1\n",
      "GGCTTACGGACTATCGAAAA 1\n",
      "GCTTACGGACTATCGAAAAA 1\n",
      "CTTACGGACTATCGAAAAAA 1\n",
      "TTACGGACTATCGAAAAAAA 1\n",
      "TACGGACTATCGAAAAAAAA 1\n",
      "ACGGACTATCGAAAAAAAAA 1\n",
      "CGGACTATCGAAAAAAAAAA 1\n",
      "GGACTATCGAAAAAAAAAAA 1\n",
      "GACTATCGAAAAAAAAAAAA 1\n",
      "ACTATCGAAAAAAAAAAAAA 1\n",
      "CTATCGAAAAAAAAAAAAAA 1\n",
      "TATCGAAAAAAAAAAAAAAA 1\n",
      "ATCGAAAAAAAAAAAAAAAA 1\n",
      "TCGAAAAAAAAAAAAAAAAA 1\n",
      "CGAAAAAAAAAAAAAAAAAA 1\n",
      "GAAAAAAAAAAAAAAAAAAA 1\n",
      "AAAAAAAAAAAAAAAAAAAA 1\n",
      "AAAAAAAAAAAAAAAAAAAA 2\n",
      "AAAAAAAAAAAAAAAAAAAA 3\n",
      "AAAAAAAAAAAAAAAAAAAA 4\n",
      "ATGCCAGATTTGACCGATGA 2\n",
      "TGCCAGATTTGACCGATGAT 2\n",
      "GCCAGATTTGACCGATGATG 2\n",
      "CCAGATTTGACCGATGATGG 2\n",
      "CAGATTTGACCGATGATGGC 2\n",
      "AGATTTGACCGATGATGGCT 1\n",
      "GATTTGACCGATGATGGCTA 1\n",
      "ATTTGACCGATGATGGCTAG 1\n",
      "TTTGACCGATGATGGCTAGG 1\n",
      "TTGACCGATGATGGCTAGGC 1\n",
      "TGACCGATGATGGCTAGGCT 1\n",
      "GACCGATGATGGCTAGGCTA 1\n",
      "ACCGATGATGGCTAGGCTAA 1\n",
      "CCGATGATGGCTAGGCTAAA 1\n",
      "CGATGATGGCTAGGCTAAAA 1\n",
      "GATGATGGCTAGGCTAAAAA 1\n",
      "ATGATGGCTAGGCTAAAAAA 1\n",
      "TGATGGCTAGGCTAAAAAAA 1\n",
      "GATGGCTAGGCTAAAAAAAA 1\n",
      "ATGGCTAGGCTAAAAAAAAA 1\n",
      "TGGCTAGGCTAAAAAAAAAA 1\n",
      "GGCTAGGCTAAAAAAAAAAA 1\n",
      "GCTAGGCTAAAAAAAAAAAA 1\n",
      "CTAGGCTAAAAAAAAAAAAA 1\n",
      "TAGGCTAAAAAAAAAAAAAA 1\n",
      "AGGCTAAAAAAAAAAAAAAA 1\n",
      "GGCTAAAAAAAAAAAAAAAA 1\n",
      "GCTAAAAAAAAAAAAAAAAA 1\n",
      "CTAAAAAAAAAAAAAAAAAA 1\n",
      "TAAAAAAAAAAAAAAAAAAA 1\n",
      "AAAAAAAAAAAAAAAAAAAA 5\n",
      "AAAAAAAAAAAAAAAAAAAA 6\n",
      "AAAAAAAAAAAAAAAAAAAA 7\n",
      "ATGCCAGATTTGACCGATGA 3\n",
      "TGCCAGATTTGACCGATGAT 3\n",
      "GCCAGATTTGACCGATGATG 3\n",
      "CCAGATTTGACCGATGATGG 3\n",
      "CAGATTTGACCGATGATGGC 3\n",
      "AGATTTGACCGATGATGGCA 2\n",
      "GATTTGACCGATGATGGCAT 2\n",
      "ATTTGACCGATGATGGCATC 2\n",
      "TTTGACCGATGATGGCATCG 2\n",
      "TTGACCGATGATGGCATCGA 2\n",
      "TGACCGATGATGGCATCGAG 2\n",
      "GACCGATGATGGCATCGAGC 2\n",
      "ACCGATGATGGCATCGAGCG 2\n",
      "CCGATGATGGCATCGAGCGA 2\n",
      "CGATGATGGCATCGAGCGAG 2\n",
      "GATGATGGCATCGAGCGAGC 2\n",
      "ATGATGGCATCGAGCGAGCG 2\n",
      "TGATGGCATCGAGCGAGCGA 2\n",
      "GATGGCATCGAGCGAGCGAC 2\n",
      "ATGGCATCGAGCGAGCGACA 2\n",
      "TGGCATCGAGCGAGCGACAT 2\n",
      "GGCATCGAGCGAGCGACATC 2\n",
      "GCATCGAGCGAGCGACATCT 2\n",
      "CATCGAGCGAGCGACATCTA 2\n",
      "ATCGAGCGAGCGACATCTAG 2\n",
      "TCGAGCGAGCGACATCTAGG 2\n",
      "CGAGCGAGCGACATCTAGGC 2\n",
      "GAGCGAGCGACATCTAGGCT 2\n",
      "AGCGAGCGACATCTAGGCTA 2\n",
      "GCGAGCGACATCTAGGCTAG 2\n",
      "CGAGCGACATCTAGGCTAGG 2\n",
      "GAGCGACATCTAGGCTAGGG 2\n",
      "AGCGACATCTAGGCTAGGGG 2\n",
      "GCGACATCTAGGCTAGGGGG 2\n",
      "CGACATCTAGGCTAGGGGGG 2\n",
      "GACATCTAGGCTAGGGGGGC 2\n",
      "ACATCTAGGCTAGGGGGGCT 2\n",
      "CATCTAGGCTAGGGGGGCTT 2\n",
      "ATCTAGGCTAGGGGGGCTTT 2\n",
      "TCTAGGCTAGGGGGGCTTTT 2\n",
      "CTAGGCTAGGGGGGCTTTTA 2\n",
      "TAGGCTAGGGGGGCTTTTAG 2\n",
      "AGGCTAGGGGGGCTTTTAGG 2\n",
      "GGCTAGGGGGGCTTTTAGGC 2\n",
      "GCTAGGGGGGCTTTTAGGCT 2\n",
      "CTAGGGGGGCTTTTAGGCTT 2\n",
      "TAGGGGGGCTTTTAGGCTTA 2\n",
      "AGGGGGGCTTTTAGGCTTAC 2\n",
      "GGGGGGCTTTTAGGCTTACG 2\n",
      "GGGGGCTTTTAGGCTTACGG 2\n",
      "GGGGCTTTTAGGCTTACGGA 2\n",
      "GGGCTTTTAGGCTTACGGAC 2\n",
      "GGCTTTTAGGCTTACGGACT 2\n",
      "GCTTTTAGGCTTACGGACTA 2\n",
      "CTTTTAGGCTTACGGACTAT 2\n",
      "TTTTAGGCTTACGGACTATC 2\n",
      "TTTAGGCTTACGGACTATCG 2\n",
      "TTAGGCTTACGGACTATCGA 2\n",
      "TAGGCTTACGGACTATCGAA 2\n",
      "AGGCTTACGGACTATCGAAA 2\n",
      "GGCTTACGGACTATCGAAAA 2\n",
      "GCTTACGGACTATCGAAAAA 2\n",
      "CTTACGGACTATCGAAAAAA 2\n",
      "TTACGGACTATCGAAAAAAA 2\n",
      "TACGGACTATCGAAAAAAAA 2\n",
      "ACGGACTATCGAAAAAAAAA 2\n",
      "CGGACTATCGAAAAAAAAAA 2\n",
      "GGACTATCGAAAAAAAAAAA 2\n",
      "GACTATCGAAAAAAAAAAAA 2\n",
      "ACTATCGAAAAAAAAAAAAA 2\n",
      "CTATCGAAAAAAAAAAAAAA 2\n",
      "TATCGAAAAAAAAAAAAAAA 2\n",
      "ATCGAAAAAAAAAAAAAAAA 2\n",
      "TCGAAAAAAAAAAAAAAAAA 2\n",
      "CGAAAAAAAAAAAAAAAAAA 2\n",
      "GAAAAAAAAAAAAAAAAAAA 2\n",
      "AAAAAAAAAAAAAAAAAAAA 8\n",
      "AAAAAAAAAAAAAAAAAAAA 9\n",
      "AAAAAAAAAAAAAAAAAAAA 10\n",
      "AAAAAAAAAAAAAAAAAAAA 11\n",
      "ATGCCAGATTTGACCGATGA 4\n",
      "TGCCAGATTTGACCGATGAT 4\n",
      "GCCAGATTTGACCGATGATG 4\n",
      "CCAGATTTGACCGATGATGG 4\n",
      "CAGATTTGACCGATGATGGC 4\n",
      "AGATTTGACCGATGATGGCA 3\n",
      "GATTTGACCGATGATGGCAT 3\n",
      "ATTTGACCGATGATGGCATC 3\n",
      "TTTGACCGATGATGGCATCG 3\n",
      "TTGACCGATGATGGCATCGA 3\n",
      "TGACCGATGATGGCATCGAG 3\n",
      "GACCGATGATGGCATCGAGC 3\n",
      "ACCGATGATGGCATCGAGCG 3\n",
      "CCGATGATGGCATCGAGCGA 3\n",
      "CGATGATGGCATCGAGCGAG 3\n",
      "GATGATGGCATCGAGCGAGC 3\n",
      "ATGATGGCATCGAGCGAGCG 3\n",
      "TGATGGCATCGAGCGAGCGA 3\n",
      "GATGGCATCGAGCGAGCGAC 3\n",
      "ATGGCATCGAGCGAGCGACA 3\n",
      "TGGCATCGAGCGAGCGACAT 3\n",
      "GGCATCGAGCGAGCGACATC 3\n",
      "GCATCGAGCGAGCGACATCT 3\n",
      "CATCGAGCGAGCGACATCTA 3\n",
      "ATCGAGCGAGCGACATCTAA 1\n",
      "TCGAGCGAGCGACATCTAAA 1\n",
      "CGAGCGAGCGACATCTAAAA 1\n",
      "GAGCGAGCGACATCTAAAAA 1\n",
      "AGCGAGCGACATCTAAAAAA 1\n",
      "GCGAGCGACATCTAAAAAAA 1\n",
      "CGAGCGACATCTAAAAAAAA 1\n",
      "GAGCGACATCTAAAAAAAAA 1\n",
      "AGCGACATCTAAAAAAAAAA 1\n",
      "GCGACATCTAAAAAAAAAAA 1\n",
      "CGACATCTAAAAAAAAAAAA 1\n",
      "GACATCTAAAAAAAAAAAAA 1\n",
      "ACATCTAAAAAAAAAAAAAA 1\n",
      "CATCTAAAAAAAAAAAAAAA 1\n",
      "ATCTAAAAAAAAAAAAAAAA 1\n",
      "TCTAAAAAAAAAAAAAAAAA 1\n",
      "CTAAAAAAAAAAAAAAAAAA 2\n",
      "TAAAAAAAAAAAAAAAAAAA 2\n",
      "AAAAAAAAAAAAAAAAAAAA 12\n",
      "AAAAAAAAAAAAAAAAAAAA 13\n",
      "AAAAAAAAAAAAAAAAAAAA 14\n",
      "ATGCCAGATTTGACCGATGA 5\n",
      "TGCCAGATTTGACCGATGAT 5\n",
      "GCCAGATTTGACCGATGATG 5\n",
      "CCAGATTTGACCGATGATGG 5\n",
      "CAGATTTGACCGATGATGGC 5\n",
      "AGATTTGACCGATGATGGCA 4\n",
      "GATTTGACCGATGATGGCAT 4\n",
      "ATTTGACCGATGATGGCATC 4\n",
      "TTTGACCGATGATGGCATCG 4\n",
      "TTGACCGATGATGGCATCGA 4\n",
      "TGACCGATGATGGCATCGAG 4\n",
      "GACCGATGATGGCATCGAGC 4\n",
      "ACCGATGATGGCATCGAGCG 4\n",
      "CCGATGATGGCATCGAGCGA 4\n",
      "CGATGATGGCATCGAGCGAA 1\n",
      "GATGATGGCATCGAGCGAAA 1\n",
      "ATGATGGCATCGAGCGAAAA 1\n",
      "TGATGGCATCGAGCGAAAAA 1\n",
      "GATGGCATCGAGCGAAAAAA 1\n",
      "ATGGCATCGAGCGAAAAAAA 1\n",
      "TGGCATCGAGCGAAAAAAAA 1\n",
      "GGCATCGAGCGAAAAAAAAA 1\n",
      "GCATCGAGCGAAAAAAAAAA 1\n",
      "CATCGAGCGAAAAAAAAAAA 1\n",
      "ATCGAGCGAAAAAAAAAAAA 1\n",
      "TCGAGCGAAAAAAAAAAAAA 1\n",
      "CGAGCGAAAAAAAAAAAAAA 1\n",
      "GAGCGAAAAAAAAAAAAAAA 1\n",
      "AGCGAAAAAAAAAAAAAAAA 1\n",
      "GCGAAAAAAAAAAAAAAAAA 1\n",
      "CGAAAAAAAAAAAAAAAAAA 3\n",
      "GAAAAAAAAAAAAAAAAAAA 3\n",
      "AAAAAAAAAAAAAAAAAAAA 15\n",
      "AAAAAAAAAAAAAAAAAAAA 16\n",
      "AAAAAAAAAAAAAAAAAAAA 17\n",
      "AAAAAAAAAAAAAAAAAAAA 18\n",
      "ATGCCAGATTTGACCGATGA 6\n",
      "TGCCAGATTTGACCGATGAT 6\n",
      "GCCAGATTTGACCGATGATG 6\n",
      "CCAGATTTGACCGATGATGG 6\n",
      "CAGATTTGACCGATGATGGA 1\n",
      "AGATTTGACCGATGATGGAA 1\n",
      "GATTTGACCGATGATGGAAA 1\n",
      "ATTTGACCGATGATGGAAAA 1\n",
      "TTTGACCGATGATGGAAAAA 1\n",
      "TTGACCGATGATGGAAAAAA 1\n",
      "TGACCGATGATGGAAAAAAA 1\n",
      "GACCGATGATGGAAAAAAAA 1\n",
      "ACCGATGATGGAAAAAAAAA 1\n",
      "CCGATGATGGAAAAAAAAAA 1\n",
      "CGATGATGGAAAAAAAAAAA 1\n",
      "GATGATGGAAAAAAAAAAAA 1\n",
      "ATGATGGAAAAAAAAAAAAA 1\n",
      "TGATGGAAAAAAAAAAAAAA 1\n",
      "GATGGAAAAAAAAAAAAAAA 1\n",
      "ATGGAAAAAAAAAAAAAAAA 1\n",
      "TGGAAAAAAAAAAAAAAAAA 1\n",
      "GGAAAAAAAAAAAAAAAAAA 1\n",
      "GAAAAAAAAAAAAAAAAAAA 4\n",
      "AAAAAAAAAAAAAAAAAAAA 19\n",
      "AAAAAAAAAAAAAAAAAAAA 20\n",
      "AAAAAAAAAAAAAAAAAAAA 21\n",
      "685\n"
     ]
    }
   ],
   "source": [
    "from Bio import SeqIO\n",
    "\n",
    "\n",
    "def kmers_in_seq(seqrecord, kmer_size):\n",
    "    'devuelve todos los kmers de un seqrecord'\n",
    "    kmers = []\n",
    "    start = 0\n",
    "    secuencia = str(seqrecord.seq)\n",
    "    len_secuencia = len(secuencia)\n",
    "    while True:\n",
    "        end = start + 20\n",
    "        if end > len_secuencia:\n",
    "            break\n",
    "        kmer = secuencia[start:start + 20]\n",
    "        kmers.append(kmer)\n",
    "        start += 1\n",
    "    return kmers\n",
    "\n",
    "\n",
    "def funcion_principal(fichero_entrada, formato_entrada, kmer_size):\n",
    "    'La funcion principal'\n",
    "    conteo_kmers = {}\n",
    "    lista = \"0\"\n",
    "    conteo_kmers_distintos = 0\n",
    "    \n",
    "    for seqrecord in SeqIO.parse(fichero_entrada, formato_entrada):\n",
    "        for kmer in kmers_in_seq(seqrecord, kmer_size):\n",
    "            if kmer not in conteo_kmers:\n",
    "                conteo_kmers[kmer] = 0\n",
    "            conteo_kmers[kmer] += 1\n",
    "            print(kmer, conteo_kmers[kmer])\n",
    "        for clave, valor in conteo_kmers.items():\n",
    "            if valor >= 1:\n",
    "                conteo_kmers_distintos += 1\n",
    "    print (conteo_kmers_distintos)\n",
    "if __name__ == '__main__':\n",
    "    fichero_entrada = 'seqs_5.fasta'\n",
    "    formato_entrada = 'fasta'\n",
    "    kmer_size = 20\n",
    "    funcion_principal(fichero_entrada, formato_entrada, kmer_size)"
   ]
  },
  {
   "cell_type": "code",
   "execution_count": null,
   "id": "52a91bb7",
   "metadata": {},
   "outputs": [],
   "source": [
    "def funcion_principal(fichero_entrada, formato_entrada, kmer_size):\n",
    "    'La funcion principal'\n",
    "    conteo_kmers = {}\n",
    "    lista = \"0\"\n",
    "    conteo_kmers_distintos = 0\n",
    "    \n",
    "    for seqrecord in SeqIO.parse(fichero_entrada, formato_entrada):\n",
    "        for kmer in kmers_in_seq(seqrecord, kmer_size):\n",
    "            if kmer not in conteo_kmers:\n",
    "                conteo_kmers[kmer] = 0\n",
    "            conteo_kmers[kmer] += 1\n",
    "            print(kmer, conteo_kmers[kmer])\n",
    "            str(conteo_kmers.values()) == lista \n",
    "            if int(lista) >= 1:\n",
    "                conteo_kmers_distintos = 0\n",
    "            conteo_kmers_distintos += 1\n",
    "    print (\"El número de kmers distintos es:\", conteo_kmers_distintos)\n",
    "if __name__ == '__main__':\n",
    "    fichero_entrada = 'seqs_5.fasta'\n",
    "    formato_entrada = 'fasta'\n",
    "    kmer_size = 20\n",
    "    funcion_principal(fichero_entrada, formato_entrada, kmer_size)"
   ]
  },
  {
   "cell_type": "code",
   "execution_count": 141,
   "id": "dfe4f550",
   "metadata": {},
   "outputs": [
    {
     "name": "stdout",
     "output_type": "stream",
     "text": [
      "ATGCCAGATTTGACCGATGA 1\n",
      "TGCCAGATTTGACCGATGAT 1\n",
      "GCCAGATTTGACCGATGATG 1\n",
      "CCAGATTTGACCGATGATGG 1\n",
      "CAGATTTGACCGATGATGGC 1\n",
      "AGATTTGACCGATGATGGCA 1\n",
      "GATTTGACCGATGATGGCAT 1\n",
      "ATTTGACCGATGATGGCATC 1\n",
      "TTTGACCGATGATGGCATCG 1\n",
      "TTGACCGATGATGGCATCGA 1\n",
      "TGACCGATGATGGCATCGAG 1\n",
      "GACCGATGATGGCATCGAGC 1\n",
      "ACCGATGATGGCATCGAGCG 1\n",
      "CCGATGATGGCATCGAGCGA 1\n",
      "CGATGATGGCATCGAGCGAG 1\n",
      "GATGATGGCATCGAGCGAGC 1\n",
      "ATGATGGCATCGAGCGAGCG 1\n",
      "TGATGGCATCGAGCGAGCGA 1\n",
      "GATGGCATCGAGCGAGCGAC 1\n",
      "ATGGCATCGAGCGAGCGACA 1\n",
      "TGGCATCGAGCGAGCGACAT 1\n",
      "GGCATCGAGCGAGCGACATC 1\n",
      "GCATCGAGCGAGCGACATCT 1\n",
      "CATCGAGCGAGCGACATCTA 1\n",
      "ATCGAGCGAGCGACATCTAG 1\n",
      "TCGAGCGAGCGACATCTAGG 1\n",
      "CGAGCGAGCGACATCTAGGC 1\n",
      "GAGCGAGCGACATCTAGGCT 1\n",
      "AGCGAGCGACATCTAGGCTA 1\n",
      "GCGAGCGACATCTAGGCTAG 1\n",
      "CGAGCGACATCTAGGCTAGG 1\n",
      "GAGCGACATCTAGGCTAGGG 1\n",
      "AGCGACATCTAGGCTAGGGG 1\n",
      "GCGACATCTAGGCTAGGGGG 1\n",
      "CGACATCTAGGCTAGGGGGG 1\n",
      "GACATCTAGGCTAGGGGGGC 1\n",
      "ACATCTAGGCTAGGGGGGCT 1\n",
      "CATCTAGGCTAGGGGGGCTT 1\n",
      "ATCTAGGCTAGGGGGGCTTT 1\n",
      "TCTAGGCTAGGGGGGCTTTT 1\n",
      "CTAGGCTAGGGGGGCTTTTA 1\n",
      "TAGGCTAGGGGGGCTTTTAG 1\n",
      "AGGCTAGGGGGGCTTTTAGG 1\n",
      "GGCTAGGGGGGCTTTTAGGC 1\n",
      "GCTAGGGGGGCTTTTAGGCT 1\n",
      "CTAGGGGGGCTTTTAGGCTT 1\n",
      "TAGGGGGGCTTTTAGGCTTA 1\n",
      "AGGGGGGCTTTTAGGCTTAC 1\n",
      "GGGGGGCTTTTAGGCTTACG 1\n",
      "GGGGGCTTTTAGGCTTACGG 1\n",
      "GGGGCTTTTAGGCTTACGGA 1\n",
      "GGGCTTTTAGGCTTACGGAC 1\n",
      "GGCTTTTAGGCTTACGGACT 1\n",
      "GCTTTTAGGCTTACGGACTA 1\n",
      "CTTTTAGGCTTACGGACTAT 1\n",
      "TTTTAGGCTTACGGACTATC 1\n",
      "TTTAGGCTTACGGACTATCG 1\n",
      "TTAGGCTTACGGACTATCGA 1\n",
      "TAGGCTTACGGACTATCGAA 1\n",
      "AGGCTTACGGACTATCGAAA 1\n",
      "GGCTTACGGACTATCGAAAA 1\n",
      "GCTTACGGACTATCGAAAAA 1\n",
      "CTTACGGACTATCGAAAAAA 1\n",
      "TTACGGACTATCGAAAAAAA 1\n",
      "TACGGACTATCGAAAAAAAA 1\n",
      "ACGGACTATCGAAAAAAAAA 1\n",
      "CGGACTATCGAAAAAAAAAA 1\n",
      "GGACTATCGAAAAAAAAAAA 1\n",
      "GACTATCGAAAAAAAAAAAA 1\n",
      "ACTATCGAAAAAAAAAAAAA 1\n",
      "CTATCGAAAAAAAAAAAAAA 1\n",
      "TATCGAAAAAAAAAAAAAAA 1\n",
      "ATCGAAAAAAAAAAAAAAAA 1\n",
      "TCGAAAAAAAAAAAAAAAAA 1\n",
      "CGAAAAAAAAAAAAAAAAAA 1\n",
      "GAAAAAAAAAAAAAAAAAAA 1\n",
      "AAAAAAAAAAAAAAAAAAAA 1\n",
      "AAAAAAAAAAAAAAAAAAAA 2\n",
      "AAAAAAAAAAAAAAAAAAAA 3\n",
      "AAAAAAAAAAAAAAAAAAAA 4\n",
      "ATGCCAGATTTGACCGATGA 2\n",
      "TGCCAGATTTGACCGATGAT 2\n",
      "GCCAGATTTGACCGATGATG 2\n",
      "CCAGATTTGACCGATGATGG 2\n",
      "CAGATTTGACCGATGATGGC 2\n",
      "AGATTTGACCGATGATGGCT 1\n",
      "GATTTGACCGATGATGGCTA 1\n",
      "ATTTGACCGATGATGGCTAG 1\n",
      "TTTGACCGATGATGGCTAGG 1\n",
      "TTGACCGATGATGGCTAGGC 1\n",
      "TGACCGATGATGGCTAGGCT 1\n",
      "GACCGATGATGGCTAGGCTA 1\n",
      "ACCGATGATGGCTAGGCTAA 1\n",
      "CCGATGATGGCTAGGCTAAA 1\n",
      "CGATGATGGCTAGGCTAAAA 1\n",
      "GATGATGGCTAGGCTAAAAA 1\n",
      "ATGATGGCTAGGCTAAAAAA 1\n",
      "TGATGGCTAGGCTAAAAAAA 1\n",
      "GATGGCTAGGCTAAAAAAAA 1\n",
      "ATGGCTAGGCTAAAAAAAAA 1\n",
      "TGGCTAGGCTAAAAAAAAAA 1\n",
      "GGCTAGGCTAAAAAAAAAAA 1\n",
      "GCTAGGCTAAAAAAAAAAAA 1\n",
      "CTAGGCTAAAAAAAAAAAAA 1\n",
      "TAGGCTAAAAAAAAAAAAAA 1\n",
      "AGGCTAAAAAAAAAAAAAAA 1\n",
      "GGCTAAAAAAAAAAAAAAAA 1\n",
      "GCTAAAAAAAAAAAAAAAAA 1\n",
      "CTAAAAAAAAAAAAAAAAAA 1\n",
      "TAAAAAAAAAAAAAAAAAAA 1\n",
      "AAAAAAAAAAAAAAAAAAAA 5\n",
      "AAAAAAAAAAAAAAAAAAAA 6\n",
      "AAAAAAAAAAAAAAAAAAAA 7\n",
      "ATGCCAGATTTGACCGATGA 3\n",
      "TGCCAGATTTGACCGATGAT 3\n",
      "GCCAGATTTGACCGATGATG 3\n",
      "CCAGATTTGACCGATGATGG 3\n",
      "CAGATTTGACCGATGATGGC 3\n",
      "AGATTTGACCGATGATGGCA 2\n",
      "GATTTGACCGATGATGGCAT 2\n",
      "ATTTGACCGATGATGGCATC 2\n",
      "TTTGACCGATGATGGCATCG 2\n",
      "TTGACCGATGATGGCATCGA 2\n",
      "TGACCGATGATGGCATCGAG 2\n",
      "GACCGATGATGGCATCGAGC 2\n",
      "ACCGATGATGGCATCGAGCG 2\n",
      "CCGATGATGGCATCGAGCGA 2\n",
      "CGATGATGGCATCGAGCGAG 2\n",
      "GATGATGGCATCGAGCGAGC 2\n",
      "ATGATGGCATCGAGCGAGCG 2\n",
      "TGATGGCATCGAGCGAGCGA 2\n",
      "GATGGCATCGAGCGAGCGAC 2\n",
      "ATGGCATCGAGCGAGCGACA 2\n",
      "TGGCATCGAGCGAGCGACAT 2\n",
      "GGCATCGAGCGAGCGACATC 2\n",
      "GCATCGAGCGAGCGACATCT 2\n",
      "CATCGAGCGAGCGACATCTA 2\n",
      "ATCGAGCGAGCGACATCTAG 2\n",
      "TCGAGCGAGCGACATCTAGG 2\n",
      "CGAGCGAGCGACATCTAGGC 2\n",
      "GAGCGAGCGACATCTAGGCT 2\n",
      "AGCGAGCGACATCTAGGCTA 2\n",
      "GCGAGCGACATCTAGGCTAG 2\n",
      "CGAGCGACATCTAGGCTAGG 2\n",
      "GAGCGACATCTAGGCTAGGG 2\n",
      "AGCGACATCTAGGCTAGGGG 2\n",
      "GCGACATCTAGGCTAGGGGG 2\n",
      "CGACATCTAGGCTAGGGGGG 2\n",
      "GACATCTAGGCTAGGGGGGC 2\n",
      "ACATCTAGGCTAGGGGGGCT 2\n",
      "CATCTAGGCTAGGGGGGCTT 2\n",
      "ATCTAGGCTAGGGGGGCTTT 2\n",
      "TCTAGGCTAGGGGGGCTTTT 2\n",
      "CTAGGCTAGGGGGGCTTTTA 2\n",
      "TAGGCTAGGGGGGCTTTTAG 2\n",
      "AGGCTAGGGGGGCTTTTAGG 2\n",
      "GGCTAGGGGGGCTTTTAGGC 2\n",
      "GCTAGGGGGGCTTTTAGGCT 2\n",
      "CTAGGGGGGCTTTTAGGCTT 2\n",
      "TAGGGGGGCTTTTAGGCTTA 2\n",
      "AGGGGGGCTTTTAGGCTTAC 2\n",
      "GGGGGGCTTTTAGGCTTACG 2\n",
      "GGGGGCTTTTAGGCTTACGG 2\n",
      "GGGGCTTTTAGGCTTACGGA 2\n",
      "GGGCTTTTAGGCTTACGGAC 2\n",
      "GGCTTTTAGGCTTACGGACT 2\n",
      "GCTTTTAGGCTTACGGACTA 2\n",
      "CTTTTAGGCTTACGGACTAT 2\n",
      "TTTTAGGCTTACGGACTATC 2\n",
      "TTTAGGCTTACGGACTATCG 2\n",
      "TTAGGCTTACGGACTATCGA 2\n",
      "TAGGCTTACGGACTATCGAA 2\n",
      "AGGCTTACGGACTATCGAAA 2\n",
      "GGCTTACGGACTATCGAAAA 2\n",
      "GCTTACGGACTATCGAAAAA 2\n",
      "CTTACGGACTATCGAAAAAA 2\n",
      "TTACGGACTATCGAAAAAAA 2\n",
      "TACGGACTATCGAAAAAAAA 2\n",
      "ACGGACTATCGAAAAAAAAA 2\n",
      "CGGACTATCGAAAAAAAAAA 2\n",
      "GGACTATCGAAAAAAAAAAA 2\n",
      "GACTATCGAAAAAAAAAAAA 2\n",
      "ACTATCGAAAAAAAAAAAAA 2\n",
      "CTATCGAAAAAAAAAAAAAA 2\n",
      "TATCGAAAAAAAAAAAAAAA 2\n",
      "ATCGAAAAAAAAAAAAAAAA 2\n",
      "TCGAAAAAAAAAAAAAAAAA 2\n",
      "CGAAAAAAAAAAAAAAAAAA 2\n",
      "GAAAAAAAAAAAAAAAAAAA 2\n",
      "AAAAAAAAAAAAAAAAAAAA 8\n",
      "AAAAAAAAAAAAAAAAAAAA 9\n",
      "AAAAAAAAAAAAAAAAAAAA 10\n",
      "AAAAAAAAAAAAAAAAAAAA 11\n",
      "ATGCCAGATTTGACCGATGA 4\n",
      "TGCCAGATTTGACCGATGAT 4\n",
      "GCCAGATTTGACCGATGATG 4\n",
      "CCAGATTTGACCGATGATGG 4\n",
      "CAGATTTGACCGATGATGGC 4\n",
      "AGATTTGACCGATGATGGCA 3\n",
      "GATTTGACCGATGATGGCAT 3\n",
      "ATTTGACCGATGATGGCATC 3\n",
      "TTTGACCGATGATGGCATCG 3\n",
      "TTGACCGATGATGGCATCGA 3\n",
      "TGACCGATGATGGCATCGAG 3\n",
      "GACCGATGATGGCATCGAGC 3\n",
      "ACCGATGATGGCATCGAGCG 3\n",
      "CCGATGATGGCATCGAGCGA 3\n",
      "CGATGATGGCATCGAGCGAG 3\n",
      "GATGATGGCATCGAGCGAGC 3\n",
      "ATGATGGCATCGAGCGAGCG 3\n",
      "TGATGGCATCGAGCGAGCGA 3\n",
      "GATGGCATCGAGCGAGCGAC 3\n",
      "ATGGCATCGAGCGAGCGACA 3\n",
      "TGGCATCGAGCGAGCGACAT 3\n",
      "GGCATCGAGCGAGCGACATC 3\n",
      "GCATCGAGCGAGCGACATCT 3\n",
      "CATCGAGCGAGCGACATCTA 3\n",
      "ATCGAGCGAGCGACATCTAA 1\n",
      "TCGAGCGAGCGACATCTAAA 1\n",
      "CGAGCGAGCGACATCTAAAA 1\n",
      "GAGCGAGCGACATCTAAAAA 1\n",
      "AGCGAGCGACATCTAAAAAA 1\n",
      "GCGAGCGACATCTAAAAAAA 1\n",
      "CGAGCGACATCTAAAAAAAA 1\n",
      "GAGCGACATCTAAAAAAAAA 1\n",
      "AGCGACATCTAAAAAAAAAA 1\n",
      "GCGACATCTAAAAAAAAAAA 1\n",
      "CGACATCTAAAAAAAAAAAA 1\n",
      "GACATCTAAAAAAAAAAAAA 1\n",
      "ACATCTAAAAAAAAAAAAAA 1\n",
      "CATCTAAAAAAAAAAAAAAA 1\n",
      "ATCTAAAAAAAAAAAAAAAA 1\n",
      "TCTAAAAAAAAAAAAAAAAA 1\n",
      "CTAAAAAAAAAAAAAAAAAA 2\n",
      "TAAAAAAAAAAAAAAAAAAA 2\n",
      "AAAAAAAAAAAAAAAAAAAA 12\n",
      "AAAAAAAAAAAAAAAAAAAA 13\n",
      "AAAAAAAAAAAAAAAAAAAA 14\n",
      "ATGCCAGATTTGACCGATGA 5\n",
      "TGCCAGATTTGACCGATGAT 5\n",
      "GCCAGATTTGACCGATGATG 5\n",
      "CCAGATTTGACCGATGATGG 5\n",
      "CAGATTTGACCGATGATGGC 5\n",
      "AGATTTGACCGATGATGGCA 4\n",
      "GATTTGACCGATGATGGCAT 4\n",
      "ATTTGACCGATGATGGCATC 4\n",
      "TTTGACCGATGATGGCATCG 4\n",
      "TTGACCGATGATGGCATCGA 4\n",
      "TGACCGATGATGGCATCGAG 4\n",
      "GACCGATGATGGCATCGAGC 4\n",
      "ACCGATGATGGCATCGAGCG 4\n",
      "CCGATGATGGCATCGAGCGA 4\n",
      "CGATGATGGCATCGAGCGAA 1\n",
      "GATGATGGCATCGAGCGAAA 1\n",
      "ATGATGGCATCGAGCGAAAA 1\n",
      "TGATGGCATCGAGCGAAAAA 1\n",
      "GATGGCATCGAGCGAAAAAA 1\n",
      "ATGGCATCGAGCGAAAAAAA 1\n",
      "TGGCATCGAGCGAAAAAAAA 1\n",
      "GGCATCGAGCGAAAAAAAAA 1\n",
      "GCATCGAGCGAAAAAAAAAA 1\n",
      "CATCGAGCGAAAAAAAAAAA 1\n",
      "ATCGAGCGAAAAAAAAAAAA 1\n",
      "TCGAGCGAAAAAAAAAAAAA 1\n",
      "CGAGCGAAAAAAAAAAAAAA 1\n",
      "GAGCGAAAAAAAAAAAAAAA 1\n",
      "AGCGAAAAAAAAAAAAAAAA 1\n",
      "GCGAAAAAAAAAAAAAAAAA 1\n",
      "CGAAAAAAAAAAAAAAAAAA 3\n",
      "GAAAAAAAAAAAAAAAAAAA 3\n",
      "AAAAAAAAAAAAAAAAAAAA 15\n",
      "AAAAAAAAAAAAAAAAAAAA 16\n",
      "AAAAAAAAAAAAAAAAAAAA 17\n",
      "AAAAAAAAAAAAAAAAAAAA 18\n",
      "ATGCCAGATTTGACCGATGA 6\n",
      "TGCCAGATTTGACCGATGAT 6\n",
      "GCCAGATTTGACCGATGATG 6\n",
      "CCAGATTTGACCGATGATGG 6\n",
      "CAGATTTGACCGATGATGGA 1\n",
      "AGATTTGACCGATGATGGAA 1\n",
      "GATTTGACCGATGATGGAAA 1\n",
      "ATTTGACCGATGATGGAAAA 1\n",
      "TTTGACCGATGATGGAAAAA 1\n",
      "TTGACCGATGATGGAAAAAA 1\n",
      "TGACCGATGATGGAAAAAAA 1\n",
      "GACCGATGATGGAAAAAAAA 1\n",
      "ACCGATGATGGAAAAAAAAA 1\n",
      "CCGATGATGGAAAAAAAAAA 1\n",
      "CGATGATGGAAAAAAAAAAA 1\n",
      "GATGATGGAAAAAAAAAAAA 1\n",
      "ATGATGGAAAAAAAAAAAAA 1\n",
      "TGATGGAAAAAAAAAAAAAA 1\n",
      "GATGGAAAAAAAAAAAAAAA 1\n",
      "ATGGAAAAAAAAAAAAAAAA 1\n",
      "TGGAAAAAAAAAAAAAAAAA 1\n",
      "GGAAAAAAAAAAAAAAAAAA 1\n",
      "GAAAAAAAAAAAAAAAAAAA 4\n",
      "AAAAAAAAAAAAAAAAAAAA 19\n",
      "AAAAAAAAAAAAAAAAAAAA 20\n",
      "AAAAAAAAAAAAAAAAAAAA 21\n"
     ]
    },
    {
     "ename": "TypeError",
     "evalue": "'NoneType' object is not iterable",
     "output_type": "error",
     "traceback": [
      "\u001b[0;31m---------------------------------------------------------------------------\u001b[0m",
      "\u001b[0;31mTypeError\u001b[0m                                 Traceback (most recent call last)",
      "Cell \u001b[0;32mIn [141], line 3\u001b[0m\n\u001b[1;32m      1\u001b[0m numero_kmers_distintos \u001b[38;5;241m=\u001b[39m []\n\u001b[1;32m      2\u001b[0m output \u001b[38;5;241m=\u001b[39m {}\n\u001b[0;32m----> 3\u001b[0m \u001b[38;5;28;01mfor\u001b[39;00m kmers \u001b[38;5;129;01min\u001b[39;00m funcion_principal(fichero_entrada, formato_entrada, kmer_size):\n\u001b[1;32m      4\u001b[0m     \u001b[38;5;28mprint\u001b[39m (kmers(\u001b[38;5;241m1\u001b[39m))\n",
      "\u001b[0;31mTypeError\u001b[0m: 'NoneType' object is not iterable"
     ]
    }
   ],
   "source": [
    "numero_kmers_distintos = []\n",
    "output = {}\n",
    "for kmers in funcion_principal(fichero_entrada, formato_entrada, kmer_size):\n",
    "    print (kmers(1))\n",
    "\n"
   ]
  },
  {
   "cell_type": "code",
   "execution_count": null,
   "id": "908e9252",
   "metadata": {},
   "outputs": [],
   "source": []
  }
 ],
 "metadata": {
  "kernelspec": {
   "display_name": "Python 3 (ipykernel)",
   "language": "python",
   "name": "python3"
  },
  "language_info": {
   "codemirror_mode": {
    "name": "ipython",
    "version": 3
   },
   "file_extension": ".py",
   "mimetype": "text/x-python",
   "name": "python",
   "nbconvert_exporter": "python",
   "pygments_lexer": "ipython3",
   "version": "3.10.8"
  }
 },
 "nbformat": 4,
 "nbformat_minor": 5
}
